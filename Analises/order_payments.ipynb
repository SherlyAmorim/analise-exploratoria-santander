{
 "cells": [
  {
   "cell_type": "code",
   "execution_count": 151,
   "metadata": {},
   "outputs": [],
   "source": [
    "import pandas as pd\n",
    "import numpy as np"
   ]
  },
  {
   "cell_type": "markdown",
   "metadata": {},
   "source": [
    "### Leitura do arquivo.csv"
   ]
  },
  {
   "cell_type": "code",
   "execution_count": 152,
   "metadata": {},
   "outputs": [
    {
     "data": {
      "text/html": [
       "<div>\n",
       "<style scoped>\n",
       "    .dataframe tbody tr th:only-of-type {\n",
       "        vertical-align: middle;\n",
       "    }\n",
       "\n",
       "    .dataframe tbody tr th {\n",
       "        vertical-align: top;\n",
       "    }\n",
       "\n",
       "    .dataframe thead th {\n",
       "        text-align: right;\n",
       "    }\n",
       "</style>\n",
       "<table border=\"1\" class=\"dataframe\">\n",
       "  <thead>\n",
       "    <tr style=\"text-align: right;\">\n",
       "      <th></th>\n",
       "      <th>order_id</th>\n",
       "      <th>payment_sequential</th>\n",
       "      <th>payment_type</th>\n",
       "      <th>payment_installments</th>\n",
       "      <th>payment_value</th>\n",
       "    </tr>\n",
       "  </thead>\n",
       "  <tbody>\n",
       "    <tr>\n",
       "      <th>0</th>\n",
       "      <td>b81ef226f3fe1789b1e8b2acac839d17</td>\n",
       "      <td>1</td>\n",
       "      <td>credit_card</td>\n",
       "      <td>8</td>\n",
       "      <td>99.33</td>\n",
       "    </tr>\n",
       "    <tr>\n",
       "      <th>1</th>\n",
       "      <td>a9810da82917af2d9aefd1278f1dcfa0</td>\n",
       "      <td>1</td>\n",
       "      <td>credit_card</td>\n",
       "      <td>1</td>\n",
       "      <td>24.39</td>\n",
       "    </tr>\n",
       "    <tr>\n",
       "      <th>2</th>\n",
       "      <td>25e8ea4e93396b6fa0d3dd708e76c1bd</td>\n",
       "      <td>1</td>\n",
       "      <td>credit_card</td>\n",
       "      <td>1</td>\n",
       "      <td>65.71</td>\n",
       "    </tr>\n",
       "    <tr>\n",
       "      <th>3</th>\n",
       "      <td>ba78997921bbcdc1373bb41e913ab953</td>\n",
       "      <td>1</td>\n",
       "      <td>credit_card</td>\n",
       "      <td>8</td>\n",
       "      <td>107.78</td>\n",
       "    </tr>\n",
       "    <tr>\n",
       "      <th>4</th>\n",
       "      <td>42fdf880ba16b47b59251dd489d4441a</td>\n",
       "      <td>1</td>\n",
       "      <td>credit_card</td>\n",
       "      <td>2</td>\n",
       "      <td>128.45</td>\n",
       "    </tr>\n",
       "    <tr>\n",
       "      <th>...</th>\n",
       "      <td>...</td>\n",
       "      <td>...</td>\n",
       "      <td>...</td>\n",
       "      <td>...</td>\n",
       "      <td>...</td>\n",
       "    </tr>\n",
       "    <tr>\n",
       "      <th>103881</th>\n",
       "      <td>0406037ad97740d563a178ecc7a2075c</td>\n",
       "      <td>1</td>\n",
       "      <td>boleto</td>\n",
       "      <td>1</td>\n",
       "      <td>363.31</td>\n",
       "    </tr>\n",
       "    <tr>\n",
       "      <th>103882</th>\n",
       "      <td>7b905861d7c825891d6347454ea7863f</td>\n",
       "      <td>1</td>\n",
       "      <td>credit_card</td>\n",
       "      <td>2</td>\n",
       "      <td>96.80</td>\n",
       "    </tr>\n",
       "    <tr>\n",
       "      <th>103883</th>\n",
       "      <td>32609bbb3dd69b3c066a6860554a77bf</td>\n",
       "      <td>1</td>\n",
       "      <td>credit_card</td>\n",
       "      <td>1</td>\n",
       "      <td>47.77</td>\n",
       "    </tr>\n",
       "    <tr>\n",
       "      <th>103884</th>\n",
       "      <td>b8b61059626efa996a60be9bb9320e10</td>\n",
       "      <td>1</td>\n",
       "      <td>credit_card</td>\n",
       "      <td>5</td>\n",
       "      <td>369.54</td>\n",
       "    </tr>\n",
       "    <tr>\n",
       "      <th>103885</th>\n",
       "      <td>28bbae6599b09d39ca406b747b6632b1</td>\n",
       "      <td>1</td>\n",
       "      <td>boleto</td>\n",
       "      <td>1</td>\n",
       "      <td>191.58</td>\n",
       "    </tr>\n",
       "  </tbody>\n",
       "</table>\n",
       "<p>103886 rows × 5 columns</p>\n",
       "</div>"
      ],
      "text/plain": [
       "                                order_id  payment_sequential payment_type  \\\n",
       "0       b81ef226f3fe1789b1e8b2acac839d17                   1  credit_card   \n",
       "1       a9810da82917af2d9aefd1278f1dcfa0                   1  credit_card   \n",
       "2       25e8ea4e93396b6fa0d3dd708e76c1bd                   1  credit_card   \n",
       "3       ba78997921bbcdc1373bb41e913ab953                   1  credit_card   \n",
       "4       42fdf880ba16b47b59251dd489d4441a                   1  credit_card   \n",
       "...                                  ...                 ...          ...   \n",
       "103881  0406037ad97740d563a178ecc7a2075c                   1       boleto   \n",
       "103882  7b905861d7c825891d6347454ea7863f                   1  credit_card   \n",
       "103883  32609bbb3dd69b3c066a6860554a77bf                   1  credit_card   \n",
       "103884  b8b61059626efa996a60be9bb9320e10                   1  credit_card   \n",
       "103885  28bbae6599b09d39ca406b747b6632b1                   1       boleto   \n",
       "\n",
       "        payment_installments  payment_value  \n",
       "0                          8          99.33  \n",
       "1                          1          24.39  \n",
       "2                          1          65.71  \n",
       "3                          8         107.78  \n",
       "4                          2         128.45  \n",
       "...                      ...            ...  \n",
       "103881                     1         363.31  \n",
       "103882                     2          96.80  \n",
       "103883                     1          47.77  \n",
       "103884                     5         369.54  \n",
       "103885                     1         191.58  \n",
       "\n",
       "[103886 rows x 5 columns]"
      ]
     },
     "execution_count": 152,
     "metadata": {},
     "output_type": "execute_result"
    }
   ],
   "source": [
    "df_payments = pd.read_csv('../data/olist_order_payments_dataset.csv')\n",
    "df_payments"
   ]
  },
  {
   "cell_type": "markdown",
   "metadata": {},
   "source": [
    "### Verificação de Métodos de Pagamento existentes no df"
   ]
  },
  {
   "cell_type": "code",
   "execution_count": 153,
   "metadata": {},
   "outputs": [
    {
     "data": {
      "text/plain": [
       "['boleto', 'credit_card', 'debit_card', 'not_defined', 'voucher']"
      ]
     },
     "execution_count": 153,
     "metadata": {},
     "output_type": "execute_result"
    }
   ],
   "source": [
    "payment = df_payments.loc[:, ('payment_type', 'payment_installments', 'payment_value')]\n",
    "pt = np.array(payment['payment_type'])\n",
    "pi = np.array(payment['payment_installments'])\n",
    "\n",
    "type_payments = payment['payment_type'].unique()\n",
    "list(np.sort(type_payments))"
   ]
  },
  {
   "cell_type": "markdown",
   "metadata": {},
   "source": [
    "### Verificação de existência de valores nulos e retorno de máscara booleana dos dados da coluna de métodos de pagamento com verificação de pagamentos por boleto "
   ]
  },
  {
   "cell_type": "code",
   "execution_count": 154,
   "metadata": {},
   "outputs": [
    {
     "name": "stdout",
     "output_type": "stream",
     "text": [
      "Verificando se existe algum campo com valores nulos:\n",
      "order_id                0\n",
      "payment_sequential      0\n",
      "payment_type            0\n",
      "payment_installments    0\n",
      "payment_value           0\n",
      "dtype: int64\n",
      "\n",
      "Retornando uma máscara booleana com os tipos de pagamento no boleto\n",
      "[False False False ... False False  True]\n",
      "\n"
     ]
    }
   ],
   "source": [
    "print('Verificando se existe algum campo com valores nulos:')\n",
    "print(df_payments.isnull().sum())\n",
    "print('')\n",
    "print('Retornando uma máscara booleana com os tipos de pagamento no boleto')\n",
    "print(pt == 'boleto')\n",
    "print('')"
   ]
  },
  {
   "cell_type": "markdown",
   "metadata": {},
   "source": [
    "### Verificação da quantidade de produtos comprados através de cada método de pagamento"
   ]
  },
  {
   "cell_type": "code",
   "execution_count": 155,
   "metadata": {},
   "outputs": [
    {
     "name": "stdout",
     "output_type": "stream",
     "text": [
      "Informação de quantos produtos comprados com cada método de pagamento\n",
      "-----------------------------------------------------------\n",
      "Boleto: 19784 produtos;\n",
      "Cartão de Crédito: 76795 produtos;\n",
      "Cartão de Débito: 1529 produtos;\n",
      "Voucher: 5775 produtos;\n",
      "Não informado: 3 produtos;\n",
      "-----------------------------------------------------------\n",
      "\n"
     ]
    }
   ],
   "source": [
    "print('Informação de quantos produtos comprados com cada método de pagamento')\n",
    "print('-----------------------------------------------------------')\n",
    "print(f'Boleto: {(pt == \"boleto\").sum()} produtos;')\n",
    "print(f'Cartão de Crédito: {(pt == \"credit_card\").sum()} produtos;')\n",
    "print(f'Cartão de Débito: {(pt == \"debit_card\").sum()} produtos;')\n",
    "print(f'Voucher: {(pt == \"voucher\").sum()} produtos;')\n",
    "print(f'Não informado: {(pt == \"not_defined\").sum()} produtos;')\n",
    "print('-----------------------------------------------------------')\n",
    "print('')"
   ]
  },
  {
   "cell_type": "markdown",
   "metadata": {},
   "source": [
    "### Verificação de Quantidade de produtos comprados com 2 ou mais parcelas em cada método de pagamento\n",
    "\n",
    "Obs: Lembrando que as verificações a baixo para Débito e Voucher, foram realizadas apenas para teste de possíveis lançamentos incorretos, visto que sabe-se que não é possível realizar compras parceladas através desses métodos de pagamento."
   ]
  },
  {
   "cell_type": "code",
   "execution_count": 156,
   "metadata": {},
   "outputs": [
    {
     "name": "stdout",
     "output_type": "stream",
     "text": [
      "Informação de quantos produtos foram comprados com 2 ou mais parcelas por método de pagamento\n",
      "-----------------------------------------------------------\n",
      "Boleto: 0 produtos;\n",
      "Cartão de Crédito: 51338 produtos;\n",
      "Cartão de Débito: 0 produtos;\n",
      "Voucher: 0 produtos;\n",
      "Não informado: 0 produtos;\n",
      "-----------------------------------------------------------\n",
      "\n"
     ]
    }
   ],
   "source": [
    "qtd_bol_parc = (payment['payment_type'] == 'boleto') & (payment['payment_installments'] >= 2)\n",
    "qtd_cred_parc = (payment['payment_type'] == 'credit_card') & (payment['payment_installments'] >= 2)\n",
    "qtd_deb_parc = (payment['payment_type'] == 'debit_card') & (payment['payment_installments'] >= 2)\n",
    "qtd_vch_parc = (payment['payment_type'] == 'voucher') & (payment['payment_installments'] >= 2)\n",
    "qtd_ni_parc = (payment['payment_type'] == 'not_defined') & (payment['payment_installments'] >= 2)\n",
    "\n",
    "print('Informação de quantos produtos foram comprados com 2 ou mais parcelas por método de pagamento')\n",
    "print('-----------------------------------------------------------')\n",
    "print(f'Boleto: {(qtd_bol_parc == True).sum()} produtos;')\n",
    "print(f'Cartão de Crédito: {(qtd_cred_parc == True).sum()} produtos;')\n",
    "print(f'Cartão de Débito: {(qtd_deb_parc == True).sum()} produtos;')\n",
    "print(f'Voucher: {(qtd_vch_parc == True).sum()} produtos;')\n",
    "print(f'Não informado: {(qtd_ni_parc == True).sum()} produtos;')\n",
    "print('-----------------------------------------------------------')\n",
    "print('')\n"
   ]
  },
  {
   "cell_type": "markdown",
   "metadata": {},
   "source": [
    "### Verificação de Quantidade de produtos comprados com 1 parcela ou à vista em cada método de pagamento"
   ]
  },
  {
   "cell_type": "code",
   "execution_count": 157,
   "metadata": {},
   "outputs": [
    {
     "name": "stdout",
     "output_type": "stream",
     "text": [
      "Informação de quantos produtos foram comprados com 2 ou mais parcelas por método de pagamento\n",
      "-----------------------------------------------------------\n",
      "Boleto: 19784 produtos;\n",
      "Cartão de Crédito: 25457 produtos;\n",
      "Cartão de Débito: 1529 produtos;\n",
      "Voucher: 5775 produtos;\n",
      "Não informado: 3 produtos;\n",
      "-----------------------------------------------------------\n",
      "\n"
     ]
    }
   ],
   "source": [
    "qtd_bol_not_parc = (payment['payment_type'] == 'boleto') & (payment['payment_installments'] <= 1)\n",
    "qtd_cred_not_parc = (payment['payment_type'] == 'credit_card') & (payment['payment_installments'] <= 1)\n",
    "qtd_deb_not_parc = (payment['payment_type'] == 'debit_card') & (payment['payment_installments'] <= 1)\n",
    "qtd_vch_not_parc = (payment['payment_type'] == 'voucher') & (payment['payment_installments'] <= 1)\n",
    "qtd_ni_not_parc = (payment['payment_type'] == 'not_defined') & (payment['payment_installments'] <= 1)\n",
    "\n",
    "print('Informação de quantos produtos foram comprados com 2 ou mais parcelas por método de pagamento')\n",
    "print('-----------------------------------------------------------')\n",
    "print(f'Boleto: {(qtd_bol_not_parc == True).sum()} produtos;')\n",
    "print(f'Cartão de Crédito: {(qtd_cred_not_parc == True).sum()} produtos;')\n",
    "print(f'Cartão de Débito: {(qtd_deb_not_parc == True).sum()} produtos;')\n",
    "print(f'Voucher: {(qtd_vch_not_parc == True).sum()} produtos;')\n",
    "print(f'Não informado: {(qtd_ni_not_parc == True).sum()} produtos;')\n",
    "print('-----------------------------------------------------------')\n",
    "print('')"
   ]
  },
  {
   "cell_type": "markdown",
   "metadata": {},
   "source": [
    "### Análises Estatísticas dos preços dos produtos"
   ]
  },
  {
   "cell_type": "code",
   "execution_count": 158,
   "metadata": {},
   "outputs": [
    {
     "data": {
      "text/plain": [
       "count    103886.000000\n",
       "mean        154.100380\n",
       "std         217.494064\n",
       "min           0.000000\n",
       "25%          56.790000\n",
       "50%         100.000000\n",
       "75%         171.837500\n",
       "max       13664.080000\n",
       "Name: payment_value, dtype: float64"
      ]
     },
     "execution_count": 158,
     "metadata": {},
     "output_type": "execute_result"
    }
   ],
   "source": [
    "payment_value = payment.loc[:, ('payment_value')]\n",
    "payment_value.describe()"
   ]
  },
  {
   "cell_type": "markdown",
   "metadata": {},
   "source": [
    "### Produtos que custam abaixo do valor médio dos produtos vendidos"
   ]
  },
  {
   "cell_type": "code",
   "execution_count": 159,
   "metadata": {},
   "outputs": [],
   "source": [
    "valor_medio = payment['payment_value'].mean()"
   ]
  },
  {
   "cell_type": "code",
   "execution_count": 160,
   "metadata": {},
   "outputs": [
    {
     "name": "stdout",
     "output_type": "stream",
     "text": [
      "       payment_type  payment_installments  payment_value\n",
      "0       credit_card                     8          99.33\n",
      "1       credit_card                     1          24.39\n",
      "2       credit_card                     1          65.71\n",
      "3       credit_card                     8         107.78\n",
      "4       credit_card                     2         128.45\n",
      "...             ...                   ...            ...\n",
      "103874  credit_card                     1           3.57\n",
      "103876  credit_card                     2         127.92\n",
      "103878  credit_card                     4          47.62\n",
      "103882  credit_card                     2          96.80\n",
      "103883  credit_card                     1          47.77\n",
      "\n",
      "[72874 rows x 3 columns]\n",
      "\n",
      "Retorno ordenado do maior para p menor valor\n",
      "       payment_type  payment_installments  payment_value\n",
      "48297        boleto                     1          154.1\n",
      "32440   credit_card                     3          154.1\n",
      "46996        boleto                     1          154.1\n",
      "25518        boleto                     1          154.1\n",
      "20793   credit_card                     7          154.1\n",
      "...             ...                   ...            ...\n",
      "94427   not_defined                     1            0.0\n",
      "57411   not_defined                     1            0.0\n",
      "19922       voucher                     1            0.0\n",
      "77885       voucher                     1            0.0\n",
      "100766      voucher                     1            0.0\n",
      "\n",
      "[72874 rows x 3 columns]\n"
     ]
    }
   ],
   "source": [
    "menor_que_medio = payment[payment['payment_value'] < valor_medio]\n",
    "print(menor_que_medio)\n",
    "print('')\n",
    "print('Retorno ordenado do maior para p menor valor')\n",
    "sort_desc = menor_que_medio.sort_values(by='payment_value', ascending=False)\n",
    "print(sort_desc)\n"
   ]
  },
  {
   "cell_type": "markdown",
   "metadata": {},
   "source": [
    "### Produtos que custam acima do valor médio dos produtos vendidos"
   ]
  },
  {
   "cell_type": "code",
   "execution_count": 161,
   "metadata": {},
   "outputs": [
    {
     "name": "stdout",
     "output_type": "stream",
     "text": [
      "       payment_type  payment_installments  payment_value\n",
      "8       credit_card                     6         341.09\n",
      "10      credit_card                     8         188.73\n",
      "15      credit_card                    10         157.45\n",
      "18      credit_card                     4         244.15\n",
      "21      credit_card                     2         170.57\n",
      "...             ...                   ...            ...\n",
      "103879  credit_card                     2         198.94\n",
      "103880  credit_card                     4         280.65\n",
      "103881       boleto                     1         363.31\n",
      "103884  credit_card                     5         369.54\n",
      "103885       boleto                     1         191.58\n",
      "\n",
      "[31012 rows x 3 columns]\n",
      "\n",
      "Retorno ordenado do menor para o maior valor\n",
      "      payment_type  payment_installments  payment_value\n",
      "1849   credit_card                     4         154.11\n",
      "92909  credit_card                     2         154.11\n",
      "68318  credit_card                     8         154.11\n",
      "39152  credit_card                     4         154.12\n",
      "13797  credit_card                     7         154.12\n",
      "...            ...                   ...            ...\n",
      "85539       boleto                     1        6726.66\n",
      "49581       boleto                     1        6922.21\n",
      "41419  credit_card                     8        6929.31\n",
      "34370       boleto                     1        7274.88\n",
      "52107  credit_card                     1       13664.08\n",
      "\n",
      "[31012 rows x 3 columns]\n"
     ]
    }
   ],
   "source": [
    "maior_que_medio = payment[payment['payment_value'] > valor_medio]\n",
    "print(maior_que_medio)\n",
    "print('')\n",
    "print('Retorno ordenado do menor para o maior valor')\n",
    "sort_asc = maior_que_medio.sort_values(by='payment_value')\n",
    "print(sort_asc)\n"
   ]
  }
 ],
 "metadata": {
  "kernelspec": {
   "display_name": "Python 3",
   "language": "python",
   "name": "python3"
  },
  "language_info": {
   "codemirror_mode": {
    "name": "ipython",
    "version": 3
   },
   "file_extension": ".py",
   "mimetype": "text/x-python",
   "name": "python",
   "nbconvert_exporter": "python",
   "pygments_lexer": "ipython3",
   "version": "3.10.12"
  }
 },
 "nbformat": 4,
 "nbformat_minor": 2
}
